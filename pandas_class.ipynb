{
 "cells": [
  {
   "cell_type": "code",
   "execution_count": 5,
   "id": "1da73838",
   "metadata": {},
   "outputs": [],
   "source": [
    "import pandas"
   ]
  },
  {
   "cell_type": "code",
   "execution_count": 6,
   "id": "18fddbb2",
   "metadata": {},
   "outputs": [
    {
     "name": "stdout",
     "output_type": "stream",
     "text": [
      "1.5.3\n"
     ]
    }
   ],
   "source": [
    "import pandas as pd \n",
    "print(pd.__version__)\n",
    "\n",
    "Name_of_student =  {\n",
    "    'name': ['ada', 'james', 'matthew', 'chris'],\n",
    "    'class': ['SS3', 'JS3', 'SS3', 'JS2']\n",
    "}"
   ]
  },
  {
   "cell_type": "code",
   "execution_count": 7,
   "id": "c3ab0d01",
   "metadata": {},
   "outputs": [],
   "source": [
    "Name_of_student = pandas.DataFrame(Name_of_student)\n"
   ]
  },
  {
   "cell_type": "code",
   "execution_count": 8,
   "id": "32c8c24d",
   "metadata": {},
   "outputs": [
    {
     "data": {
      "text/html": [
       "<div>\n",
       "<style scoped>\n",
       "    .dataframe tbody tr th:only-of-type {\n",
       "        vertical-align: middle;\n",
       "    }\n",
       "\n",
       "    .dataframe tbody tr th {\n",
       "        vertical-align: top;\n",
       "    }\n",
       "\n",
       "    .dataframe thead th {\n",
       "        text-align: right;\n",
       "    }\n",
       "</style>\n",
       "<table border=\"1\" class=\"dataframe\">\n",
       "  <thead>\n",
       "    <tr style=\"text-align: right;\">\n",
       "      <th></th>\n",
       "      <th>name</th>\n",
       "      <th>class</th>\n",
       "    </tr>\n",
       "  </thead>\n",
       "  <tbody>\n",
       "    <tr>\n",
       "      <th>0</th>\n",
       "      <td>ada</td>\n",
       "      <td>SS3</td>\n",
       "    </tr>\n",
       "    <tr>\n",
       "      <th>1</th>\n",
       "      <td>james</td>\n",
       "      <td>JS3</td>\n",
       "    </tr>\n",
       "    <tr>\n",
       "      <th>2</th>\n",
       "      <td>matthew</td>\n",
       "      <td>SS3</td>\n",
       "    </tr>\n",
       "    <tr>\n",
       "      <th>3</th>\n",
       "      <td>chris</td>\n",
       "      <td>JS2</td>\n",
       "    </tr>\n",
       "  </tbody>\n",
       "</table>\n",
       "</div>"
      ],
      "text/plain": [
       "      name class\n",
       "0      ada   SS3\n",
       "1    james   JS3\n",
       "2  matthew   SS3\n",
       "3    chris   JS2"
      ]
     },
     "execution_count": 8,
     "metadata": {},
     "output_type": "execute_result"
    }
   ],
   "source": [
    "Name_of_student"
   ]
  },
  {
   "cell_type": "code",
   "execution_count": 21,
   "id": "bd1958aa",
   "metadata": {},
   "outputs": [
    {
     "data": {
      "text/html": [
       "<div>\n",
       "<style scoped>\n",
       "    .dataframe tbody tr th:only-of-type {\n",
       "        vertical-align: middle;\n",
       "    }\n",
       "\n",
       "    .dataframe tbody tr th {\n",
       "        vertical-align: top;\n",
       "    }\n",
       "\n",
       "    .dataframe thead th {\n",
       "        text-align: right;\n",
       "    }\n",
       "</style>\n",
       "<table border=\"1\" class=\"dataframe\">\n",
       "  <thead>\n",
       "    <tr style=\"text-align: right;\">\n",
       "      <th></th>\n",
       "      <th>Price</th>\n",
       "      <th>Boat Type</th>\n",
       "      <th>Manufacturer</th>\n",
       "      <th>Type</th>\n",
       "      <th>Year Built</th>\n",
       "      <th>Length</th>\n",
       "      <th>Width</th>\n",
       "      <th>Material</th>\n",
       "      <th>Location</th>\n",
       "      <th>Number of views last 7 days</th>\n",
       "    </tr>\n",
       "  </thead>\n",
       "  <tbody>\n",
       "    <tr>\n",
       "      <th>0</th>\n",
       "      <td>CHF 3337</td>\n",
       "      <td>Motor Yacht</td>\n",
       "      <td>Rigiflex power boats</td>\n",
       "      <td>new boat from stock</td>\n",
       "      <td>2017</td>\n",
       "      <td>4.00</td>\n",
       "      <td>1.90</td>\n",
       "      <td>NaN</td>\n",
       "      <td>Switzerland Â» Lake Geneva Â» VÃ©senaz</td>\n",
       "      <td>226</td>\n",
       "    </tr>\n",
       "    <tr>\n",
       "      <th>1</th>\n",
       "      <td>EUR 3490</td>\n",
       "      <td>Center console boat</td>\n",
       "      <td>Terhi power boats</td>\n",
       "      <td>new boat from stock</td>\n",
       "      <td>2020</td>\n",
       "      <td>4.00</td>\n",
       "      <td>1.50</td>\n",
       "      <td>Thermoplastic</td>\n",
       "      <td>Germany Â» BÃ¶nningstedt</td>\n",
       "      <td>75</td>\n",
       "    </tr>\n",
       "    <tr>\n",
       "      <th>2</th>\n",
       "      <td>CHF 3770</td>\n",
       "      <td>Sport Boat</td>\n",
       "      <td>Marine power boats</td>\n",
       "      <td>new boat from stock</td>\n",
       "      <td>0</td>\n",
       "      <td>3.69</td>\n",
       "      <td>1.42</td>\n",
       "      <td>Aluminium</td>\n",
       "      <td>Switzerland Â» Lake of Zurich Â» StÃ¤fa ZH</td>\n",
       "      <td>124</td>\n",
       "    </tr>\n",
       "    <tr>\n",
       "      <th>3</th>\n",
       "      <td>DKK 25900</td>\n",
       "      <td>Sport Boat</td>\n",
       "      <td>Pioner power boats</td>\n",
       "      <td>new boat from stock</td>\n",
       "      <td>2020</td>\n",
       "      <td>3.00</td>\n",
       "      <td>1.00</td>\n",
       "      <td>NaN</td>\n",
       "      <td>Denmark Â» Svendborg</td>\n",
       "      <td>64</td>\n",
       "    </tr>\n",
       "    <tr>\n",
       "      <th>4</th>\n",
       "      <td>EUR 3399</td>\n",
       "      <td>Fishing Boat</td>\n",
       "      <td>Linder power boats</td>\n",
       "      <td>new boat from stock</td>\n",
       "      <td>2019</td>\n",
       "      <td>3.55</td>\n",
       "      <td>1.46</td>\n",
       "      <td>Aluminium</td>\n",
       "      <td>Germany Â» Bayern Â» MÃ¼nchen</td>\n",
       "      <td>58</td>\n",
       "    </tr>\n",
       "  </tbody>\n",
       "</table>\n",
       "</div>"
      ],
      "text/plain": [
       "       Price            Boat Type          Manufacturer                 Type  \\\n",
       "0   CHF 3337          Motor Yacht  Rigiflex power boats  new boat from stock   \n",
       "1   EUR 3490  Center console boat     Terhi power boats  new boat from stock   \n",
       "2   CHF 3770           Sport Boat    Marine power boats  new boat from stock   \n",
       "3  DKK 25900           Sport Boat    Pioner power boats  new boat from stock   \n",
       "4   EUR 3399         Fishing Boat    Linder power boats  new boat from stock   \n",
       "\n",
       "   Year Built  Length  Width       Material  \\\n",
       "0        2017    4.00   1.90            NaN   \n",
       "1        2020    4.00   1.50  Thermoplastic   \n",
       "2           0    3.69   1.42      Aluminium   \n",
       "3        2020    3.00   1.00            NaN   \n",
       "4        2019    3.55   1.46      Aluminium   \n",
       "\n",
       "                                     Location  Number of views last 7 days  \n",
       "0      Switzerland Â» Lake Geneva Â» VÃ©senaz                          226  \n",
       "1                    Germany Â» BÃ¶nningstedt                           75  \n",
       "2  Switzerland Â» Lake of Zurich Â» StÃ¤fa ZH                          124  \n",
       "3                        Denmark Â» Svendborg                           64  \n",
       "4               Germany Â» Bayern Â» MÃ¼nchen                           58  "
      ]
     },
     "execution_count": 21,
     "metadata": {},
     "output_type": "execute_result"
    }
   ],
   "source": [
    "data_path = \"C:/Users/MY COMPUTER/Desktop/panda/boat_data.csv\"\n",
    "df = pd.read_csv(data_path)\n",
    "df.head()\n"
   ]
  },
  {
   "cell_type": "code",
   "execution_count": 22,
   "id": "c539112a",
   "metadata": {},
   "outputs": [
    {
     "data": {
      "text/plain": [
       "3263"
      ]
     },
     "execution_count": 22,
     "metadata": {},
     "output_type": "execute_result"
    }
   ],
   "source": [
    "df[\"Number of views last 7 days\"].max()"
   ]
  },
  {
   "cell_type": "code",
   "execution_count": 23,
   "id": "65f055f0",
   "metadata": {},
   "outputs": [
    {
     "name": "stdout",
     "output_type": "stream",
     "text": [
      "<class 'pandas.core.frame.DataFrame'>\n",
      "RangeIndex: 9888 entries, 0 to 9887\n",
      "Data columns (total 10 columns):\n",
      " #   Column                       Non-Null Count  Dtype  \n",
      "---  ------                       --------------  -----  \n",
      " 0   Price                        9888 non-null   object \n",
      " 1   Boat Type                    9888 non-null   object \n",
      " 2   Manufacturer                 8550 non-null   object \n",
      " 3   Type                         9882 non-null   object \n",
      " 4   Year Built                   9888 non-null   int64  \n",
      " 5   Length                       9879 non-null   float64\n",
      " 6   Width                        9832 non-null   float64\n",
      " 7   Material                     8139 non-null   object \n",
      " 8   Location                     9852 non-null   object \n",
      " 9   Number of views last 7 days  9888 non-null   int64  \n",
      "dtypes: float64(2), int64(2), object(6)\n",
      "memory usage: 772.6+ KB\n"
     ]
    }
   ],
   "source": [
    "df.info()"
   ]
  },
  {
   "cell_type": "code",
   "execution_count": 26,
   "id": "230fcc9c",
   "metadata": {},
   "outputs": [
    {
     "data": {
      "text/plain": [
       "Index(['Price', 'Boat Type', 'Manufacturer', 'Type', 'Year Built', 'Length',\n",
       "       'Width', 'Material', 'Location', 'Number of views last 7 days'],\n",
       "      dtype='object')"
      ]
     },
     "execution_count": 26,
     "metadata": {},
     "output_type": "execute_result"
    }
   ],
   "source": [
    "df.columns"
   ]
  },
  {
   "cell_type": "code",
   "execution_count": 28,
   "id": "6f6968a0",
   "metadata": {},
   "outputs": [
    {
     "data": {
      "text/plain": [
       "array(['Motor Yacht', 'Center console boat', 'Sport Boat', 'Fishing Boat',\n",
       "       'Catamaran', 'Pontoon Boat', 'Runabout', 'Deck Boat', 'Pilothouse',\n",
       "       'Cabin Boat', 'Working Boat', 'Classic', 'Bowrider',\n",
       "       'Sport Boat,Working Boat', 'Cabin Boat,Classic',\n",
       "       'Deck Boat,Pilothouse,Sport Boat', 'Trawler', 'Launch',\n",
       "       'Cabin Boat,Trawler', 'Bowrider,Classic', 'Motor Yacht,Sport Boat',\n",
       "       'Classic,Runabout,Sport Boat', 'Cabin Boat,Motor Yacht',\n",
       "       'Classic,Launch', 'Cabin Boat,Sport Boat', 'Flybridge',\n",
       "       'Water ski', 'Hardtop', 'Classic,Runabout', 'Offshore Boat',\n",
       "       'Cabin Boat,Sport Boat,Wakeboard/Wakesurf', 'Classic,Pontoon Boat',\n",
       "       'Classic,Motor Yacht', 'Motor Yacht,Sport Boat,Trawler',\n",
       "       'Wakeboard/Wakesurf', 'Passenger boat',\n",
       "       'Classic,Sport Boat,Water ski', 'Classic,Sport Boat', 'House Boat',\n",
       "       'Classic,Motorsailer', 'Sport Boat,Wakeboard/Wakesurf',\n",
       "       'Pilothouse,Sport Boat', 'House Boat,Motor Yacht',\n",
       "       'Cabin Boat,Classic,Trawler', 'Passenger boat,Working Boat',\n",
       "       'Wakeboard/Wakesurf,Water ski',\n",
       "       'Classic,Motor Yacht,Passenger boat', 'Offshore Boat,Pilothouse',\n",
       "       'Runabout,Sport Boat,Water ski',\n",
       "       'Bowrider,Sport Boat,Wakeboard/Wakesurf', 'Sport Boat,Water ski',\n",
       "       'Cabin Boat,Classic,Motor Yacht', 'Classic,Flybridge',\n",
       "       'Flybridge,Pilothouse', 'Flybridge,Motor Yacht',\n",
       "       'Classic,Working Boat', 'Classic,Pontoon Boat,Trawler',\n",
       "       'Sport Boat,Wakeboard/Wakesurf,Water ski', 'Classic,Trawler',\n",
       "       'Ketch', 'Runabout,Sport Boat', 'Cabin Boat,Hardtop,Trawler',\n",
       "       'Cabin Boat,Motor Yacht,Sport Boat',\n",
       "       'Classic,House Boat,Motor Yacht', 'Hardtop,Motor Yacht',\n",
       "       'Mega Yacht', 'Hardtop,Mega Yacht,Motor Yacht',\n",
       "       'Flybridge,Hardtop,Motor Yacht', 'Motorsailer',\n",
       "       'Classic,Mega Yacht', 'Cabin Boat,Motor Yacht,Offshore Boat',\n",
       "       'Center console boat,Classic', 'Cabin Boat,Motor Yacht,Trawler',\n",
       "       'Bowrider,Motor Yacht,Wakeboard/Wakesurf', 'Motor Yacht,Trawler',\n",
       "       'Hardtop,Motor Yacht,Sport Boat',\n",
       "       'Classic,House Boat,Passenger boat',\n",
       "       'House Boat,Motor Yacht,Trawler', 'Cabin Boat,Hardtop,Motor Yacht',\n",
       "       'Cabin Boat,Flybridge', 'Fishing Boat,Launch,Motor Yacht',\n",
       "       'Cabin Boat,House Boat', 'Cabin Boat,Hardtop',\n",
       "       'Bowrider,Motor Yacht,Sport Boat', 'Classic,Deck Boat',\n",
       "       'Cabin Boat,Flybridge,Motor Yacht',\n",
       "       'Classic,Motor Yacht,Sport Boat', 'Bowrider,Cabin Boat,Deck Boat',\n",
       "       'Motor Yacht,Wakeboard/Wakesurf', 'Classic,Motor Yacht,Water ski',\n",
       "       'Passenger boat,Runabout,Sport Boat', 'Offshore Boat,Sport Boat',\n",
       "       'Center console boat,Sport Boat',\n",
       "       'Cabin Boat,Fishing Boat,Pilothouse', 'Cabin Boat,Pilothouse',\n",
       "       'Center console boat,Fishing Boat,Sport Boat',\n",
       "       'Fishing Boat,Flybridge,Trawler',\n",
       "       'Motor Yacht,Sport Boat,Water ski',\n",
       "       'Cabin Boat,Hardtop,Sport Boat', 'Fishing Boat,Sport Boat',\n",
       "       'Classic,Hardtop,Motor Yacht',\n",
       "       'Center console boat,Deck Boat,Working Boat',\n",
       "       'Center console boat,Sport Boat,Water ski',\n",
       "       'Fishing Boat,Pilothouse', 'Bowrider,Wakeboard/Wakesurf',\n",
       "       'House Boat,Sport Boat,Trawler', 'Cabin Boat,House Boat,Trawler',\n",
       "       'Cabin Boat,Fishing Boat',\n",
       "       'Bowrider,Center console boat,Sport Boat',\n",
       "       'Cabin Boat,Pilothouse,Sport Boat',\n",
       "       'Cabin Boat,Classic,Passenger boat', 'Classic,Sport Boat,Trawler',\n",
       "       'Fishing Boat,Passenger boat,Sport Boat',\n",
       "       'Classic,Fishing Boat,Working Boat',\n",
       "       'Center console boat,Deck Boat,Sport Boat',\n",
       "       'Cabin Boat,Classic,Flybridge', 'Fishing Boat,Hardtop,Pilothouse',\n",
       "       'Cabin Boat,Fishing Boat,House Boat',\n",
       "       'Cabin Boat,Sport Boat,Water ski', 'Bowrider,Deck Boat,Water ski',\n",
       "       'RIB', 'Deck Boat,Water ski', 'Classic,Fishing Boat',\n",
       "       'Hardtop,Sport Boat', 'Cabin Boat,Fishing Boat,Sport Boat',\n",
       "       'Classic,Runabout,Trawler'], dtype=object)"
      ]
     },
     "execution_count": 28,
     "metadata": {},
     "output_type": "execute_result"
    }
   ],
   "source": [
    "df[\"Boat Type\"].unique()"
   ]
  },
  {
   "cell_type": "code",
   "execution_count": 30,
   "id": "3ac5114e",
   "metadata": {},
   "outputs": [
    {
     "data": {
      "text/plain": [
       "Motor Yacht                        2720\n",
       "Sport Boat                         1407\n",
       "Flybridge                          1194\n",
       "Trawler                             679\n",
       "Pilothouse                          613\n",
       "                                   ... \n",
       "Bowrider,Motor Yacht,Sport Boat       1\n",
       "Sport Boat,Working Boat               1\n",
       "Classic,Motor Yacht,Sport Boat        1\n",
       "Motor Yacht,Wakeboard/Wakesurf        1\n",
       "Classic,Runabout,Trawler              1\n",
       "Name: Boat Type, Length: 126, dtype: int64"
      ]
     },
     "execution_count": 30,
     "metadata": {},
     "output_type": "execute_result"
    }
   ],
   "source": [
    "df[\"Boat Type\"].value_counts()"
   ]
  },
  {
   "cell_type": "code",
   "execution_count": 31,
   "id": "217f6fa8",
   "metadata": {},
   "outputs": [
    {
     "data": {
      "text/plain": [
       "3263"
      ]
     },
     "execution_count": 31,
     "metadata": {},
     "output_type": "execute_result"
    }
   ],
   "source": [
    "df[\"Number of views last 7 days\"].max()"
   ]
  },
  {
   "cell_type": "code",
   "execution_count": 32,
   "id": "b6f707c9",
   "metadata": {},
   "outputs": [
    {
     "data": {
      "text/plain": [
       "68      91\n",
       "74      87\n",
       "62      84\n",
       "67      84\n",
       "81      84\n",
       "        ..\n",
       "582      1\n",
       "332      1\n",
       "868      1\n",
       "435      1\n",
       "1116     1\n",
       "Name: Number of views last 7 days, Length: 674, dtype: int64"
      ]
     },
     "execution_count": 32,
     "metadata": {},
     "output_type": "execute_result"
    }
   ],
   "source": [
    "df[\"Number of views last 7 days\"].value_counts()\n"
   ]
  },
  {
   "cell_type": "code",
   "execution_count": 36,
   "id": "f49d7600",
   "metadata": {},
   "outputs": [
    {
     "data": {
      "text/html": [
       "<div>\n",
       "<style scoped>\n",
       "    .dataframe tbody tr th:only-of-type {\n",
       "        vertical-align: middle;\n",
       "    }\n",
       "\n",
       "    .dataframe tbody tr th {\n",
       "        vertical-align: top;\n",
       "    }\n",
       "\n",
       "    .dataframe thead th {\n",
       "        text-align: right;\n",
       "    }\n",
       "</style>\n",
       "<table border=\"1\" class=\"dataframe\">\n",
       "  <thead>\n",
       "    <tr style=\"text-align: right;\">\n",
       "      <th></th>\n",
       "      <th>Price</th>\n",
       "      <th>Boat Type</th>\n",
       "      <th>Manufacturer</th>\n",
       "      <th>Type</th>\n",
       "      <th>Year Built</th>\n",
       "      <th>Length</th>\n",
       "      <th>Width</th>\n",
       "      <th>Material</th>\n",
       "      <th>Location</th>\n",
       "      <th>Number of views last 7 days</th>\n",
       "    </tr>\n",
       "  </thead>\n",
       "  <tbody>\n",
       "    <tr>\n",
       "      <th>0</th>\n",
       "      <td>CHF 3337</td>\n",
       "      <td>Motor Yacht</td>\n",
       "      <td>Rigiflex power boats</td>\n",
       "      <td>new boat from stock</td>\n",
       "      <td>2017</td>\n",
       "      <td>4.00</td>\n",
       "      <td>1.90</td>\n",
       "      <td>NaN</td>\n",
       "      <td>Switzerland Â» Lake Geneva Â» VÃ©senaz</td>\n",
       "      <td>226</td>\n",
       "    </tr>\n",
       "    <tr>\n",
       "      <th>1</th>\n",
       "      <td>EUR 3490</td>\n",
       "      <td>Center console boat</td>\n",
       "      <td>Terhi power boats</td>\n",
       "      <td>new boat from stock</td>\n",
       "      <td>2020</td>\n",
       "      <td>4.00</td>\n",
       "      <td>1.50</td>\n",
       "      <td>Thermoplastic</td>\n",
       "      <td>Germany Â» BÃ¶nningstedt</td>\n",
       "      <td>75</td>\n",
       "    </tr>\n",
       "    <tr>\n",
       "      <th>2</th>\n",
       "      <td>CHF 3770</td>\n",
       "      <td>Sport Boat</td>\n",
       "      <td>Marine power boats</td>\n",
       "      <td>new boat from stock</td>\n",
       "      <td>0</td>\n",
       "      <td>3.69</td>\n",
       "      <td>1.42</td>\n",
       "      <td>Aluminium</td>\n",
       "      <td>Switzerland Â» Lake of Zurich Â» StÃ¤fa ZH</td>\n",
       "      <td>124</td>\n",
       "    </tr>\n",
       "    <tr>\n",
       "      <th>3</th>\n",
       "      <td>DKK 25900</td>\n",
       "      <td>Sport Boat</td>\n",
       "      <td>Pioner power boats</td>\n",
       "      <td>new boat from stock</td>\n",
       "      <td>2020</td>\n",
       "      <td>3.00</td>\n",
       "      <td>1.00</td>\n",
       "      <td>NaN</td>\n",
       "      <td>Denmark Â» Svendborg</td>\n",
       "      <td>64</td>\n",
       "    </tr>\n",
       "    <tr>\n",
       "      <th>4</th>\n",
       "      <td>EUR 3399</td>\n",
       "      <td>Fishing Boat</td>\n",
       "      <td>Linder power boats</td>\n",
       "      <td>new boat from stock</td>\n",
       "      <td>2019</td>\n",
       "      <td>3.55</td>\n",
       "      <td>1.46</td>\n",
       "      <td>Aluminium</td>\n",
       "      <td>Germany Â» Bayern Â» MÃ¼nchen</td>\n",
       "      <td>58</td>\n",
       "    </tr>\n",
       "  </tbody>\n",
       "</table>\n",
       "</div>"
      ],
      "text/plain": [
       "       Price            Boat Type          Manufacturer                 Type  \\\n",
       "0   CHF 3337          Motor Yacht  Rigiflex power boats  new boat from stock   \n",
       "1   EUR 3490  Center console boat     Terhi power boats  new boat from stock   \n",
       "2   CHF 3770           Sport Boat    Marine power boats  new boat from stock   \n",
       "3  DKK 25900           Sport Boat    Pioner power boats  new boat from stock   \n",
       "4   EUR 3399         Fishing Boat    Linder power boats  new boat from stock   \n",
       "\n",
       "   Year Built  Length  Width       Material  \\\n",
       "0        2017    4.00   1.90            NaN   \n",
       "1        2020    4.00   1.50  Thermoplastic   \n",
       "2           0    3.69   1.42      Aluminium   \n",
       "3        2020    3.00   1.00            NaN   \n",
       "4        2019    3.55   1.46      Aluminium   \n",
       "\n",
       "                                     Location  Number of views last 7 days  \n",
       "0      Switzerland Â» Lake Geneva Â» VÃ©senaz                          226  \n",
       "1                    Germany Â» BÃ¶nningstedt                           75  \n",
       "2  Switzerland Â» Lake of Zurich Â» StÃ¤fa ZH                          124  \n",
       "3                        Denmark Â» Svendborg                           64  \n",
       "4               Germany Â» Bayern Â» MÃ¼nchen                           58  "
      ]
     },
     "execution_count": 36,
     "metadata": {},
     "output_type": "execute_result"
    }
   ],
   "source": [
    "df[df[\"Boat Type\"]==\"Number of views last 7 days\"]\n",
    "df.head(5)"
   ]
  },
  {
   "cell_type": "code",
   "execution_count": null,
   "id": "f1ef5382",
   "metadata": {},
   "outputs": [],
   "source": []
  }
 ],
 "metadata": {
  "kernelspec": {
   "display_name": "Python 3 (ipykernel)",
   "language": "python",
   "name": "python3"
  },
  "language_info": {
   "codemirror_mode": {
    "name": "ipython",
    "version": 3
   },
   "file_extension": ".py",
   "mimetype": "text/x-python",
   "name": "python",
   "nbconvert_exporter": "python",
   "pygments_lexer": "ipython3",
   "version": "3.10.9"
  }
 },
 "nbformat": 4,
 "nbformat_minor": 5
}
